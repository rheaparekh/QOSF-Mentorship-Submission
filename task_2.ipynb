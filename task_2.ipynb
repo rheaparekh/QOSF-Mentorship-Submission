{
 "cells": [
  {
   "cell_type": "markdown",
   "metadata": {},
   "source": [
    "# Quantum Computing Mentorship - Screening task\n",
    "\n",
    "Here, I am presenting a solution to Task 2.\n",
    "\n",
    "## Task 2\n",
    "\n",
    "Implement a circuit that returns $|01\\rangle$ and $|10\\rangle$ with equal probability.\n",
    "\n",
    "Requirements :\n",
    "* The circuit should consist only of CNOTs, RXs and RYs. \n",
    "* Start from all parameters in parametric gates being equal to 0 or randomly chosen. \n",
    "* You should find the right set of parameters using gradient descent (you can use more advanced optimization methods if you like). \n",
    "* Simulations must be done with sampling - i.e. a limited number of measurements per iteration and noise. \n",
    "\n",
    "Compare the results for different numbers of measurements: 1, 10, 100, 1000. \n",
    "\n",
    "***Bonus question***: How to make sure you produce state $|01\\rangle$ + $|10\\rangle$ and not $|01\\rangle$ - $|10\\rangle$?\n"
   ]
  },
  {
   "cell_type": "markdown",
   "metadata": {},
   "source": [
    "## Step 1: Install dependencies using requirements\n",
    "\n",
    "## Step 2: Import the necessary libraries and setup\n",
    "\n",
    "I use Qiskit for this solution. The backend I use `qasm_simulator` has noise."
   ]
  },
  {
   "cell_type": "code",
   "execution_count": 35,
   "metadata": {},
   "outputs": [],
   "source": [
    "import numpy as np\n",
    "import random\n",
    "\n",
    "from qiskit import(\n",
    "  QuantumCircuit,\n",
    "  execute,\n",
    "  Aer)\n",
    "from qiskit.visualization import plot_histogram\n",
    "\n",
    "import matplotlib.pyplot as plt"
   ]
  },
  {
   "cell_type": "code",
   "execution_count": 4,
   "metadata": {},
   "outputs": [],
   "source": [
    "# Use Aer's qasm_simulator\n",
    "simulator = Aer.get_backend('qasm_simulator')\n",
    "backend = Aer.get_backend('statevector_simulator')\n",
    "\n",
    "np.set_printoptions(precision=10)\n",
    "measurement_shots = [1000, 100, 10, 1]"
   ]
  },
  {
   "cell_type": "markdown",
   "metadata": {},
   "source": [
    "## Step 3: Study circuit\n",
    "\n",
    "Using a universal gate set, to implement a circuit that returns $|01\\rangle$ and $|10\\rangle$ with equal probability, we use the gates Hadamard, X, CNOT.\n",
    "\n",
    "* We start from the state       $|00\\rangle$\n",
    "* Applying X gate to Qubit 2:   $|01\\rangle$\n",
    "* Applying H gate to Qubit 1:   $\\frac{(|0\\rangle + |1\\rangle)}{\\sqrt{2}}|1\\rangle$\n",
    "* Applying CNOT with control qubit 1 and target qubit 2: $\\frac{|01\\rangle + |10\\rangle}{\\sqrt{2}}$\n",
    "\n",
    "\n",
    "Hence on measuring this, we would get a circuit that returns $|01\\rangle$ and $|10\\rangle$ with equal probability $\\frac{1}{2}$\n",
    "\n",
    "The circuit would look like: <img src=\"images/circuit.png\">\n",
    "\n",
    "\n",
    "#### Now we try to obtain a circuit that returns $|01\\rangle$ and $|10\\rangle$ with equal probability using Rx, Ry and CNOT gates:\n",
    "\n",
    "* X gate can be written as Ry($\\pi$) gate\n",
    "* Next part of the circuit has to be an implementation that returns $|0\\rangle$ and $|1\\rangle$ with equal probability when applied on $|0\\rangle$ state. Note that here, it is not necessry to recreate a Hadamard gate, as there can be multiple states with different phases which would returns $|00\\rangle$ and $|11\\rangle$ with $\\frac{1}{2}$ probability.\n",
    "* Finally we apply a CNOT gate for the result.\n",
    "\n",
    "\n",
    "For the second part, when applied to $|0\\rangle$ state would result in $|0\\rangle$ and $|1\\rangle$ with equal probability:\n",
    "* Combination like Ry$(\\pi/2)$Rx($\\pi/2)$ would result in state $\\frac{|0\\rangle + |1\\rangle}{\\sqrt{2}}$\n",
    "* Combination like Ry$(3\\pi/2)$Rx($\\pi/2)$ would result in state $\\frac{|0\\rangle - |1\\rangle}{\\sqrt{2}}$\n",
    "* Combination like Ry$(3\\pi/2)$Rx($3\\pi/2)$ would result in state $\\frac{|0\\rangle - |1\\rangle}{\\sqrt{2}}$\n",
    "* Combination like Ry$(\\pi/2)$Rx($3\\pi/2)$ would result in state $\\frac{|0\\rangle + |1\\rangle}{\\sqrt{2}}$\n",
    "\n",
    "**Note**: We first implement a circuit that returns $|01\\rangle$ and $|10\\rangle$ with equal probability and we let the state be both $|01\\rangle$ + $|10\\rangle$ and $|01\\rangle$ - $|10\\rangle$. Next we present the solution to the bonus question where we ensure that the state is $|01\\rangle$ + $|10\\rangle$ and not $|01\\rangle$ - $|10\\rangle$\n",
    "\n",
    "\n"
   ]
  },
  {
   "cell_type": "code",
   "execution_count": 5,
   "metadata": {},
   "outputs": [
    {
     "data": {
      "text/html": [
       "<pre style=\"word-wrap: normal;white-space: pre;background: #fff0;line-height: 1.1;font-family: &quot;Courier New&quot;,Courier,monospace\">     ┌──────────┐┌──────────┐     \n",
       "q_0: ┤ RY(pi/2) ├┤ RX(pi/2) ├──■──\n",
       "     └┬────────┬┘└──────────┘┌─┴─┐\n",
       "q_1: ─┤ RY(pi) ├─────────────┤ X ├\n",
       "      └────────┘             └───┘</pre>"
      ],
      "text/plain": [
       "     ┌──────────┐┌──────────┐     \n",
       "q_0: ┤ RY(pi/2) ├┤ RX(pi/2) ├──■──\n",
       "     └┬────────┬┘└──────────┘┌─┴─┐\n",
       "q_1: ─┤ RY(pi) ├─────────────┤ X ├\n",
       "      └────────┘             └───┘"
      ]
     },
     "execution_count": 5,
     "metadata": {},
     "output_type": "execute_result"
    }
   ],
   "source": [
    "# Trial circuit\n",
    "circuit = QuantumCircuit(2)\n",
    "\n",
    "# X gate on qubit 1\n",
    "circuit.ry(np.pi,1)\n",
    "\n",
    "# H gate on qubit 0\n",
    "circuit.ry(np.pi/2,0)\n",
    "circuit.rx(np.pi/2,0)\n",
    "\n",
    "# CNOT gate with qubit 0 as a control qubit and qubit 1 as the targer qubit\n",
    "circuit.cx(0,1)\n",
    "\n",
    "circuit.draw()"
   ]
  },
  {
   "cell_type": "code",
   "execution_count": 11,
   "metadata": {},
   "outputs": [
    {
     "name": "stdout",
     "output_type": "stream",
     "text": [
      "Probability of states:  {'01': 0.5, '10': 0.5}\n"
     ]
    }
   ],
   "source": [
    "result = execute(circuit, backend, shots=1000).result()\n",
    "result_counts  = result.get_counts() \n",
    "print(\"Probability of states: \", result_counts)"
   ]
  },
  {
   "cell_type": "markdown",
   "metadata": {},
   "source": [
    "## Step 4: Implement gradient descent\n",
    "\n",
    "Gradient descent is a first-order iterative optimization algorithm for finding a local minimum of a differentiable function. Here, the gradient descent function will take the objective function as an input and tries to find the parameters at which this function will be minimum.\n",
    "\n",
    "\n",
    "First we set the parameters of the gradient descent as following:\n",
    "* Learning rate = 0.8\n",
    "* Step size (h) = 0.005\n",
    "* max_iteration = 1000\n",
    "* momentum_coeff = 0.75\n",
    "\n",
    "\n",
    "### Calculate gradient of an objective function\n",
    "\n",
    "Here, I am using an analytical method to calculate the gradient of our objective function. For example, for a small value ```h```:\n",
    "\n",
    "* We update theta as $\\theta = \\theta + h$\n",
    "* Derivation of function $F(\\theta)$ can be analytically written as ```gradient``` = $F'(\\theta) = \\frac{F(\\theta + h)- F(\\theta)}{h}$\n",
    "\n",
    "\n",
    "### Update method in gradient descent\n",
    "\n",
    "Using this gradient calucation methon, we update our parameter in every iteration using: ```param = param + learning_rate(gradient*momentum_coeff + (1-momentum_coeff)momentum)```\n",
    "\n",
    "Here we use momentum to give some weightage to the gradient in the previous iteration as well."
   ]
  },
  {
   "cell_type": "code",
   "execution_count": 12,
   "metadata": {},
   "outputs": [],
   "source": [
    "# Set the parameters to perform gradient descent:\n",
    "\n",
    "learning_rate = 0.8\n",
    "step_size = 0.005\n",
    "max_iteration = 1000\n",
    "momentum_coeff = 0.75"
   ]
  },
  {
   "cell_type": "code",
   "execution_count": 100,
   "metadata": {},
   "outputs": [],
   "source": [
    "# Some Helper functions\n",
    "\n",
    "def get_measurement_results(circuit, shots):\n",
    "    \"\"\"\n",
    "    This function takes circuit and number of measurement shots\n",
    "    as the input and outputs the counts of measurement\n",
    "    \"\"\"\n",
    "    \n",
    "    circuit.measure_all()\n",
    "    result = execute(circuit, simulator, shots=shots).result()\n",
    "    result_counts  = result.get_counts(circuit)\n",
    "    return result_counts\n",
    "\n",
    "\n",
    "def get_state_vector(circuit):\n",
    "    \"\"\"\n",
    "    This function takes computes the circuit and gets the statevector\n",
    "    \"\"\"\n",
    "    final_state = execute(circuit, backend).result().get_statevector()\n",
    "    \n",
    "    return final_state\n",
    "\n",
    "\n",
    "def get_probability_from_measurement_results(count, measurement_shots):\n",
    "    \"\"\"\n",
    "    This function takes in counts from a measurement of a single qubit state\n",
    "    and outputs the probabilty of measuring either state |0> or |1>\n",
    "    \"\"\"\n",
    "    \n",
    "    measure_0 = 0\n",
    "    measure_1 = 0\n",
    "    \n",
    "    if '0' in count.keys():\n",
    "        measure_0 = int(count['0'])/measurement_shots\n",
    "    if '1' in count.keys():\n",
    "        measure_1 = int(count['1'])/measurement_shots  \n",
    "        \n",
    "    return  measure_0, measure_1\n",
    "\n",
    "\n",
    "def get_probability_from_measurement_results_2_qubits(\n",
    "        count, measurement_shots):\n",
    "    \"\"\"\n",
    "    This function takes in counts from a measurement of a two qubit state\n",
    "    and outputs the probabilty of measuring either state |00>, |01>, |10> or |11>\n",
    "    \"\"\"\n",
    "    \n",
    "    measure_00 = 0\n",
    "    measure_01 = 0\n",
    "    measure_10 = 0\n",
    "    measure_11 = 0\n",
    "    \n",
    "    if '00' in count.keys():\n",
    "        measure_00 = int(count['00'])/measurement_shots\n",
    "    if '01' in count.keys():\n",
    "        measure_01 = int(count['01'])/measurement_shots\n",
    "    if '10' in count.keys():\n",
    "        measure_10 = int(count['10'])/measurement_shots\n",
    "    if '11' in count.keys():\n",
    "        measure_11 = int(count['11'])/measurement_shots\n",
    "        \n",
    "    return  measure_00, measure_01, measure_10, measure_11\n",
    "        \n",
    "    \n",
    "def set_up_initial_params(number_of_gates):\n",
    "    \"\"\"\n",
    "    This function generates random parameters for a give number of gates\n",
    "    \"\"\"\n",
    "    \n",
    "    params = []\n",
    "    for j in range(number_of_gates):\n",
    "        random_param = random.uniform(0, 2*np.pi)\n",
    "        params.append(random_param)\n",
    "        \n",
    "    return params\n",
    "\n",
    "\n",
    "def pretty_print_results(iteration, obj_value, param):\n",
    "    print(\"_________________________________________________________\")\n",
    "    print(\"Number of iterations: \", iteration)     \n",
    "    print(\"Minimum distance: \", obj_value, \"Value of parameter: \", param)      "
   ]
  },
  {
   "cell_type": "code",
   "execution_count": 97,
   "metadata": {},
   "outputs": [],
   "source": [
    "def calculate_gradient(\n",
    "    j, objective_function, params, obj_value, measurement_shots):\n",
    "    \"\"\"\n",
    "    This function analytically calculates the gradient of any objective_function\n",
    "    * We update theta as 𝜃=𝜃+ℎ \n",
    "    * Derivation of function 𝐹'(𝜃) = (𝐹(𝜃+ℎ)−𝐹(𝜃))/ℎ\n",
    "    \"\"\"\n",
    "    update_params = params.copy()\n",
    "    \n",
    "    update_params[j] = params[j] + step_size\n",
    "    update_obj_value   = objective_function(\n",
    "        update_params, measurement_shots)\n",
    "    \n",
    "    gradient_value = (update_obj_value  - obj_value)/step_size\n",
    "    return gradient_value\n",
    "\n",
    "\n",
    "def update_param(j, params, gradient_value_arr, momentum_arr):\n",
    "    \"\"\"\n",
    "    This function updates the parameter according its gradient value\n",
    "    and previous momentum\n",
    "    \n",
    "    * param = param + learning_rate(gradient*momentum_coeff + (1-momentum_coeff)momentum)\n",
    "    \"\"\"\n",
    "    \n",
    "    params[j] -= learning_rate*(\n",
    "              gradient_value_arr[j]*momentum_coeff + (1-momentum_coeff)*momentum_arr[j])\n",
    "    params[j] =  params[j] % (2*np.pi)\n",
    "    \n",
    "    return params[j]\n",
    "\n",
    "\n",
    "def perform_gradient_descent(\n",
    "    initial_params, objective_function, measurement_shots=None, disp = False): \n",
    "    \"\"\"\n",
    "    This function analytically performs the gradient descent by taking\n",
    "    an objective function as an input and finding the parameter for\n",
    "    which this function is minimum\n",
    "    \"\"\"\n",
    "    \n",
    "    # Select parameters initially at random\n",
    "    params = np.array(initial_params).copy()\n",
    "    number_of_gates = len(initial_params)\n",
    "    \n",
    "    min_params = np.array(params).copy()\n",
    "    obj_value = objective_function(params, measurement_shots)\n",
    "    min_obj_value = obj_value \n",
    "    \n",
    "    for iteration in range(max_iteration): \n",
    "       \n",
    "       # Find the gradient value for all parameters\n",
    "       gradient_value_arr = []\n",
    "       for j in range(number_of_gates):\n",
    "          gradient_value = calculate_gradient(\n",
    "              j, \n",
    "              objective_function,\n",
    "              params,\n",
    "              obj_value,\n",
    "              measurement_shots)\n",
    "          gradient_value_arr.append(gradient_value) \n",
    "        \n",
    "       # Setup a momentum for the previous gradient value \n",
    "       if (iteration == 0):\n",
    "          momentum_arr = gradient_value_arr\n",
    "       \n",
    "       # Update the parameters according to their gradient and momentum\n",
    "       for j in range(number_of_gates): \n",
    "          params[j] = update_param(j, params, gradient_value_arr, momentum_arr)\n",
    "            \n",
    "       momentum_arr = gradient_value_arr\n",
    "    \n",
    "       #Find the update value of objective function\n",
    "       obj_value   = objective_function(params, measurement_shots)\n",
    "    \n",
    "       if disp:\n",
    "           print(\"\\niteration: \", iteration, \" obj_value: \", obj_value, \" param: \", params)\n",
    "       \n",
    "       if (obj_value == 0):\n",
    "           # We do this because we want to want the final optimised value \n",
    "           min_obj_value = obj_value\n",
    "           min_params = np.array(params).copy()\n",
    "        \n",
    "       if (min_obj_value > obj_value):\n",
    "           min_obj_value = obj_value\n",
    "           min_params = np.array(params).copy()\n",
    "\n",
    "    pretty_print_results(max_iteration, min_obj_value, min_params)\n",
    "    return {\"min_trace_norm\": min_obj_value , \"min_params\": min_params}"
   ]
  },
  {
   "cell_type": "markdown",
   "metadata": {},
   "source": [
    "## Step 5: Use Gradient descent to find representation of X gate\n",
    "\n",
    "Here we first define our objective function which has to be minimised.\n",
    "\n",
    "**Objective function**: (probability$[0]$ - 0)^2 + (probability$[1]$ - 1)^2\n",
    "\n",
    "Here probability$[0]$ is the probability to measure the state $|0\\rangle$ and probability$[1]$ is the probability to measure the state $|1\\rangle$"
   ]
  },
  {
   "cell_type": "code",
   "execution_count": 98,
   "metadata": {
    "scrolled": false
   },
   "outputs": [
    {
     "name": "stdout",
     "output_type": "stream",
     "text": [
      "Initial param:  4.931955065416929\n",
      "\n",
      "Result with number of measurement shots:  1000\n",
      "Number of iterations:  1000\n",
      "Minimum distance:  0.0 Value of parameter:  [3.1528285295]\n",
      "_________________________________________________________\n",
      "\n",
      "Result with number of measurement shots:  100\n",
      "Number of iterations:  1000\n",
      "Minimum distance:  0.0 Value of parameter:  [3.1477346731]\n",
      "_________________________________________________________\n",
      "\n",
      "Result with number of measurement shots:  10\n",
      "Number of iterations:  1000\n",
      "Minimum distance:  0.0 Value of parameter:  [3.2469331557]\n",
      "_________________________________________________________\n",
      "\n",
      "Result with number of measurement shots:  1\n",
      "Number of iterations:  1000\n",
      "Minimum distance:  0.0 Value of parameter:  [2.8960067676]\n",
      "_________________________________________________________\n"
     ]
    }
   ],
   "source": [
    "def objective_function_for_X_gate(params, measurement_shots):\n",
    "    circuit = QuantumCircuit(1)\n",
    "    \n",
    "    # X gate on qubit 1\n",
    "    circuit.ry(params[0], 0)\n",
    "    \n",
    "    count = get_measurement_results(\n",
    "        circuit, measurement_shots)\n",
    "    measurement_probability = get_probability_from_measurement_results(\n",
    "        count, measurement_shots)\n",
    " \n",
    "    obj_val = ((float(measurement_probability[0]) - 0)**2\n",
    "               + (float(measurement_probability[1]) - 1)**2)\n",
    "    return obj_val \n",
    "\n",
    "\n",
    "number_of_gates = 1\n",
    "initial_params = set_up_initial_params(number_of_gates)\n",
    "print(\"Initial param: \", initial_params[0])\n",
    "\n",
    "x_gate_results = []\n",
    "\n",
    "for i in range(4):\n",
    "    print(\"\\nResult with number of measurement shots: \", measurement_shots[i])\n",
    "    \n",
    "    result = perform_gradient_descent(\n",
    "        initial_params, objective_function_for_X_gate, measurement_shots[i])\n",
    "    x_gate_results.append(result)"
   ]
  },
  {
   "cell_type": "markdown",
   "metadata": {},
   "source": [
    "## Step 6: Use Gradient descent to find representation for a circuit that returns $|00\\rangle$  and  $|11\\rangle$  with equal probability.\n",
    "\n",
    "**Note**: We first implement a circuit that returns $|01\\rangle$ and $|10\\rangle$ with equal probability and we let the state be both $|01\\rangle$ + $|10\\rangle$ and $|01\\rangle$ - $|10\\rangle$ in this objective function.\n",
    "\n",
    "**Objective function**: (probability$[0]$ - $\\frac{1}{2}$)^2 + (probability$[1]$ - $\\frac{1}{2}$)^2\n",
    "\n",
    "Here probability$[0]$ is the probability to measure the state $|0\\rangle$ and probability$[1]$ is the probability to measure the state $|1\\rangle$"
   ]
  },
  {
   "cell_type": "code",
   "execution_count": 99,
   "metadata": {
    "scrolled": true
   },
   "outputs": [
    {
     "name": "stdout",
     "output_type": "stream",
     "text": [
      "Initial param:  [1.1056132427493264, 0.4030002806426986]\n",
      "\n",
      "Result with number of measurement shots:  1000\n",
      "Number of iterations:  1000\n",
      "Minimum distance:  0.0 Value of parameter:  [1.5908948638 1.1431112873]\n",
      "_________________________________________________________\n",
      "\n",
      "Result with number of measurement shots:  100\n",
      "Number of iterations:  1000\n",
      "Minimum distance:  0.0 Value of parameter:  [4.3027952561 1.546559496 ]\n",
      "_________________________________________________________\n",
      "\n",
      "Result with number of measurement shots:  10\n",
      "Number of iterations:  1000\n",
      "Minimum distance:  0.0 Value of parameter:  [5.4561778986 2.0703193406]\n",
      "_________________________________________________________\n",
      "\n",
      "Result with number of measurement shots:  1\n",
      "Number of iterations:  1000\n",
      "Minimum distance:  0.5 Value of parameter:  [1.1056132427 0.4030002806]\n",
      "_________________________________________________________\n"
     ]
    }
   ],
   "source": [
    "def objective_function_for_equal_prob(params, measurement_shots):\n",
    "    circuit = QuantumCircuit(1)\n",
    "    \n",
    "    circuit.ry(params[0],0)\n",
    "    circuit.rx(params[1],0)\n",
    "\n",
    "    count = get_measurement_results(circuit, measurement_shots)\n",
    "    measurement_probability = get_probability_from_measurement_results(\n",
    "        count, measurement_shots)\n",
    "    \n",
    "    obj_val = ((float(measurement_probability[0]) - 0.5)**2\n",
    "               + (float(measurement_probability[1]) - 0.5)**2)\n",
    "    return obj_val\n",
    "\n",
    "\n",
    "number_of_gates = 2\n",
    "initial_params = set_up_initial_params(number_of_gates)\n",
    "print(\"Initial param: \", initial_params)\n",
    "\n",
    "equal_prob_results = []\n",
    "\n",
    "for i in range(4):\n",
    "    print(\"\\nResult with number of measurement shots: \", measurement_shots[i])\n",
    "    \n",
    "    result = perform_gradient_descent(\n",
    "        initial_params, objective_function_for_equal_prob, measurement_shots[i])\n",
    "    equal_prob_results.append(result)"
   ]
  },
  {
   "cell_type": "markdown",
   "metadata": {},
   "source": [
    "## Step 7: Presenting results\n",
    "\n",
    "Here, we first take all the parameters we obtained by performing gradient descent on parameters on the different part of the circuit, and form a new circuit using that. \n",
    "\n",
    "Then we measure the circuit using the particular number of shots we used earlier in gradient descent. Next we present the result using Histograms.\n",
    "\n",
    "**Note: Here we observe that as the number of shots decrease, the error percent in our result increases.**\n"
   ]
  },
  {
   "cell_type": "code",
   "execution_count": 103,
   "metadata": {},
   "outputs": [],
   "source": [
    "def checking_results(x_gate_results, equal_prob_results):\n",
    "    \"\"\"\n",
    "    This function takes all the paramters we obtain from the gradient descent for \n",
    "    X gate and H gate and applies to a new circuit.\n",
    "    \n",
    "    We then measure this new circuit with different measurement shots\n",
    "    \"\"\"\n",
    "    \n",
    "    counts = []\n",
    "    obj_values = []\n",
    "    \n",
    "    for i in range(4):    \n",
    "        circuit = QuantumCircuit(2)\n",
    "\n",
    "        # X gate on qubit 1\n",
    "        circuit.ry(x_gate_results[i]['min_params'][0],1)\n",
    "\n",
    "        # H gate on qubit 0\n",
    "        circuit.ry(equal_prob_results[i]['min_params'][0],0)\n",
    "        circuit.rx(equal_prob_results[i]['min_params'][1],0)\n",
    "\n",
    "        # CNOT gate with qubit 0 as a control qubit and qubit 1 as the targer qubit\n",
    "        circuit.cx(0,1)\n",
    "        count = get_measurement_results(circuit, measurement_shots[i])\n",
    "        counts.append(count)\n",
    "        \n",
    "        prob = get_probability_from_measurement_results_2_qubits(\n",
    "        count, measurement_shots[i])\n",
    "        \n",
    "        \n",
    "        obj_val = ((float(prob[0]) - 0)**2 + (float(prob[1]) - 0.5)**2\n",
    "                + (float(prob[2]) - 0.5)**2 + (float(prob[3]) - 0)**2)\n",
    "        obj_values.append(obj_val)         \n",
    "    return counts, obj_values\n",
    "        \n",
    "counts, obj_values = checking_results(x_gate_results, equal_prob_results)"
   ]
  },
  {
   "cell_type": "code",
   "execution_count": 104,
   "metadata": {},
   "outputs": [
    {
     "data": {
      "image/png": "[encoded data removed]",
      "text/plain": [
       "<Figure size 504x360 with 1 Axes>"
      ]
     },
     "execution_count": 104,
     "metadata": {},
     "output_type": "execute_result"
    }
   ],
   "source": [
    "plot_histogram(counts[0], title=\"Measurement shots: 1000\")"
   ]
  },
  {
   "cell_type": "code",
   "execution_count": 105,
   "metadata": {},
   "outputs": [
    {
     "data": {
      "image/png": "[encoded data removed]",
      "text/plain": [
       "<Figure size 504x360 with 1 Axes>"
      ]
     },
     "execution_count": 105,
     "metadata": {},
     "output_type": "execute_result"
    }
   ],
   "source": [
    "plot_histogram(counts[1], title=\"Measurement shots: 100\")"
   ]
  },
  {
   "cell_type": "code",
   "execution_count": 106,
   "metadata": {},
   "outputs": [
    {
     "data": {
      "image/png": "[encoded data removed]",
      "text/plain": [
       "<Figure size 504x360 with 1 Axes>"
      ]
     },
     "execution_count": 106,
     "metadata": {},
     "output_type": "execute_result"
    }
   ],
   "source": [
    "plot_histogram(counts[2], title=\"Measurement shots: 10\")"
   ]
  },
  {
   "cell_type": "code",
   "execution_count": 107,
   "metadata": {},
   "outputs": [
    {
     "data": {
      "image/png": "[encoded data removed]",
      "text/plain": [
       "<Figure size 504x360 with 1 Axes>"
      ]
     },
     "execution_count": 107,
     "metadata": {},
     "output_type": "execute_result"
    }
   ],
   "source": [
    "plot_histogram(counts[3], title=\"Measurement shots: 1\")"
   ]
  },
  {
   "cell_type": "markdown",
   "metadata": {},
   "source": [
    "### Comparing the objective function for different numbers of measurements: 1, 10, 100, 1000\n",
    "\n",
    "We can see that as the number of shots decreases, the value of the error function increases.\n",
    "\n",
    "**Error function**: (prob$[00]$ - 0)^2 + (prob$[01]$ - $\\frac{1}{2}$)^2 + (prob$[10]$ - $\\frac{1}{2}$)^2 + (prob$[11]$ - 0)^2\n",
    "\n",
    "Here prob$[00]$ is the probability to measure the state $|00\\rangle$, prob$[01]$ is the probability to measure the state $|01\\rangle$ and so on.."
   ]
  },
  {
   "cell_type": "code",
   "execution_count": 108,
   "metadata": {},
   "outputs": [
    {
     "data": {
      "text/plain": [
       "Text(0, 0.5, 'Error function value')"
      ]
     },
     "execution_count": 108,
     "metadata": {},
     "output_type": "execute_result"
    },
    {
     "data": {
      "image/png": "[encoded data removed]",
      "text/plain": [
       "<Figure size 432x288 with 1 Axes>"
      ]
     },
     "metadata": {
      "needs_background": "light"
     },
     "output_type": "display_data"
    }
   ],
   "source": [
    "plt.plot(['1000', '100', '10', '1'], obj_values, 'ro')\n",
    "plt.xlabel('Number of measurement shots')\n",
    "plt.ylabel('Error function value')"
   ]
  },
  {
   "cell_type": "markdown",
   "metadata": {},
   "source": [
    "# Bonus question solution:\n",
    "\n",
    "**Objective function**: (probability$[0]$ - $\\frac{1}{2}$)^2 + (probability$[1]$ - $\\frac{1}{2}$)^2\n",
    "\n",
    "Here probability$[0]$ is the probability to measure the state $|0\\rangle$ and probability$[1]$ is the probability to measure the state $|1\\rangle$"
   ]
  },
  {
   "cell_type": "code",
   "execution_count": 109,
   "metadata": {},
   "outputs": [
    {
     "name": "stdout",
     "output_type": "stream",
     "text": [
      "Initial param:  [4.191662388655773, 6.09871780809276]\n",
      "_________________________________________________________\n",
      "Number of iterations:  1000\n",
      "Minimum distance:  1.0000004559003035 Value of parameter:  [1.5698414443 5.8776360247]\n"
     ]
    }
   ],
   "source": [
    "def objective_function_for_H_gate(params, shots=None):\n",
    "    circuit = QuantumCircuit(1)\n",
    "    \n",
    "    circuit.ry(params[0],0)\n",
    "    circuit.rx(params[1],0)\n",
    "\n",
    "    statevector = get_state_vector(circuit)\n",
    "    \n",
    "    obj_val = ((float(statevector[0].real) - 2**(1/2))**2\n",
    "               + (float(statevector[1].real) - 2**(1/2))**2)\n",
    "    return obj_val\n",
    "\n",
    "\n",
    "number_of_gates = 2\n",
    "initial_params = set_up_initial_params(number_of_gates)\n",
    "print(\"Initial param: \", initial_params)\n",
    "\n",
    "\n",
    "h_gate_result = perform_gradient_descent(\n",
    "    initial_params, objective_function_for_H_gate)"
   ]
  },
  {
   "cell_type": "markdown",
   "metadata": {},
   "source": [
    "### Presenting results for bonus question:"
   ]
  },
  {
   "cell_type": "code",
   "execution_count": 110,
   "metadata": {},
   "outputs": [
    {
     "name": "stdout",
     "output_type": "stream",
     "text": [
      "[0.0866476761+0.0000000000e+00j 0.7014745612+2.6426212703e-04j\n",
      " 0.7020903746+0.0000000000e+00j 0.0865716762+3.2613606459e-05j]\n"
     ]
    }
   ],
   "source": [
    "def checking_results(x_gate_results, h_gate_result):\n",
    "    \"\"\"\n",
    "    This function takes all the paramters we obtain from the gradient descent for \n",
    "    X gate and H gate and applies to a new circuit.\n",
    "    \n",
    "    We then measure this new circuit with different measurement shots\n",
    "    \"\"\"\n",
    "\n",
    "    circuit = QuantumCircuit(2)\n",
    "\n",
    "    # X gate on qubit 1\n",
    "    circuit.ry(x_gate_results[i]['min_params'][0],1)\n",
    "\n",
    "    # H gate on qubit 0\n",
    "    circuit.ry(h_gate_result['min_params'][0],0)\n",
    "    circuit.rx(h_gate_result['min_params'][1],0)\n",
    "\n",
    "    # CNOT gate with qubit 0 as a control qubit and qubit 1 as the targer qubit\n",
    "    circuit.cx(0,1)\n",
    "    statevector = get_state_vector(circuit)\n",
    "    \n",
    "    return statevector\n",
    "\n",
    "statevector = checking_results(x_gate_results, h_gate_result)\n",
    "print(statevector)"
   ]
  },
  {
   "cell_type": "markdown",
   "metadata": {},
   "source": [
    "Hence we can make sure that state $|01\\rangle$ + $|10\\rangle$ is being produced and not $|01\\rangle$ - $|10\\rangle$ using a different objective function which checks the statevector of the circuit"
   ]
  }
 ],
 "metadata": {
  "kernelspec": {
   "display_name": "Python 3",
   "language": "python",
   "name": "python3"
  },
  "language_info": {
   "codemirror_mode": {
    "name": "ipython",
    "version": 3
   },
   "file_extension": ".py",
   "mimetype": "text/x-python",
   "name": "python",
   "nbconvert_exporter": "python",
   "pygments_lexer": "ipython3",
   "version": "3.6.3"
  }
 },
 "nbformat": 4,
 "nbformat_minor": 2
}
